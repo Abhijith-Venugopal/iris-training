{
 "cells": [
  {
   "cell_type": "markdown",
   "id": "4c2616a9",
   "metadata": {},
   "source": [
    "## This is my notebook!"
   ]
  },
  {
   "cell_type": "code",
   "execution_count": 1,
   "id": "5291858e",
   "metadata": {},
   "outputs": [],
   "source": [
    "import numpy as np\n",
    "import matplotlib.pyplot as plt\n",
    "import warnings\n",
    "warnings.filterwarnings(\"ignore\")\n",
    "from cartopy.mpl.gridliner import LONGITUDE_FORMATTER, LATITUDE_FORMATTER\n",
    "\n",
    "import iris\n",
    "import matplotlib.ticker as mticker\n",
    "import iris.quickplot as qplt\n",
    "import cartopy.crs as ccrs"
   ]
  },
  {
   "cell_type": "code",
   "execution_count": 3,
   "id": "c0241699",
   "metadata": {},
   "outputs": [],
   "source": [
    "cubes = iris.load('~/bk042a.pc18500101.pp')"
   ]
  },
  {
   "cell_type": "code",
   "execution_count": null,
   "id": "aab5eabf",
   "metadata": {},
   "outputs": [],
   "source": [
    "cubes[6]"
   ]
  },
  {
   "cell_type": "code",
   "execution_count": null,
   "id": "a2162ba6",
   "metadata": {},
   "outputs": [],
   "source": [
    "import copy\n",
    "temp = copy.deepcopy(cubes[6])"
   ]
  },
  {
   "cell_type": "code",
   "execution_count": null,
   "id": "c97238c3",
   "metadata": {},
   "outputs": [],
   "source": [
    "temp.coord('pressure').points"
   ]
  },
  {
   "cell_type": "code",
   "execution_count": null,
   "id": "2cd0664e",
   "metadata": {},
   "outputs": [],
   "source": [
    "temp[0][-1]"
   ]
  },
  {
   "cell_type": "code",
   "execution_count": null,
   "id": "630c1826",
   "metadata": {},
   "outputs": [],
   "source": [
    "def add_grid():\n",
    "    gl = ax.gridlines(crs=ccrs.PlateCarree(), draw_labels=True,\n",
    "                  linewidth=2, color='gray', alpha=0.5, linestyle='--')\n",
    "    gl.xlabels_top = False\n",
    "    gl.ylabels_left = False\n",
    "    gl.xlines = False\n",
    "    gl.xlocator = mticker.FixedLocator([-180, -45, 0, 45, 180])\n",
    "    gl.xformatter = LONGITUDE_FORMATTER\n",
    "    gl.yformatter = LATITUDE_FORMATTER\n",
    "    gl.xlabel_style = {'size': 15, 'color': 'gray'}\n",
    "    gl.xlabel_style = {'color': 'red', 'weight': 'bold'}"
   ]
  },
  {
   "cell_type": "code",
   "execution_count": null,
   "id": "9a2ecfd7",
   "metadata": {},
   "outputs": [],
   "source": [
    "fig = plt.figure(figsize=[10,10])\n",
    "ax = plt.subplot(1,1,1,projection=ccrs.PlateCarree())\n",
    "\n",
    "ax.coastlines()\n",
    "\n",
    "plt.pcolormesh(lons, lats,temp[0][0].data, transform=ccrs.PlateCarree(), cmap = 'bwr')\n",
    "plt.colorbar(orientation = 'horizontal')\n",
    "plt.contour(lons, lats,temp[0][0].data, colors='k',transform=ccrs.PlateCarree(),\n",
    "            levels=[200,210,220], linestyles = '--')\n",
    "\n",
    "\n",
    "\n",
    "add_grid()\n",
    "\n",
    "plt.show();"
   ]
  },
  {
   "cell_type": "code",
   "execution_count": null,
   "id": "11c383d2",
   "metadata": {},
   "outputs": [],
   "source": [
    "lats = temp.coord('latitude').points\n",
    "lons = temp.coord('longitude').points\n"
   ]
  },
  {
   "cell_type": "code",
   "execution_count": null,
   "id": "a8a8f3ce",
   "metadata": {},
   "outputs": [],
   "source": []
  },
  {
   "cell_type": "code",
   "execution_count": null,
   "id": "f0e63cb9",
   "metadata": {},
   "outputs": [],
   "source": []
  }
 ],
 "metadata": {
  "kernelspec": {
   "display_name": "Python 3 (ipykernel)",
   "language": "python",
   "name": "python3"
  },
  "language_info": {
   "codemirror_mode": {
    "name": "ipython",
    "version": 3
   },
   "file_extension": ".py",
   "mimetype": "text/x-python",
   "name": "python",
   "nbconvert_exporter": "python",
   "pygments_lexer": "ipython3",
   "version": "3.10.4"
  }
 },
 "nbformat": 4,
 "nbformat_minor": 5
}
